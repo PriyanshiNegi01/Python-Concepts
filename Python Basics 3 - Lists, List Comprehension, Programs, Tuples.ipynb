{
 "cells": [
  {
   "cell_type": "markdown",
   "id": "4652daec",
   "metadata": {},
   "source": [
    "# Python Basics 3\n",
    "\n",
    "### 1) Lists\n",
    "### 2) List Comprehension\n",
    "### 3) Programs on Matrix Calculations\n",
    "### 4) Tuples\n",
    "### --------------------------------------------------------------------------------------------------------------------------------------------------------"
   ]
  },
  {
   "cell_type": "markdown",
   "id": "29349814",
   "metadata": {},
   "source": [
    "# Collection\n",
    "- A container that is used to store collections of data, for example - list, dict, set, and tuple, etc.\n",
    "- We put multiple items into one variable\n",
    "\n",
    "### ---------------------------------------------------------------------------------------------------------------------------------------------------------"
   ]
  },
  {
   "cell_type": "markdown",
   "id": "a89912f4",
   "metadata": {},
   "source": [
    "# Lists"
   ]
  },
  {
   "cell_type": "code",
   "execution_count": 1,
   "id": "48a247d4",
   "metadata": {},
   "outputs": [
    {
     "name": "stdout",
     "output_type": "stream",
     "text": [
      "<class 'int'>\n",
      "<class 'list'>\n"
     ]
    }
   ],
   "source": [
    "# Lists\n",
    "\"\"\"\n",
    "=================\n",
    "List Properties:\n",
    "=================\n",
    "\n",
    "1) Mutable(Changeable): Can update the element of list using its index and the assignment operator.\n",
    "2) Can store data items of different datatype.\n",
    "3) Data items in square brackets separated by commas are collectively known as a list.\n",
    "4) Lists are organized sequentially with the bracket operator as the lookup operator.\n",
    "5) Access elements using index. Index refers to the position of an element.\n",
    "6) Lists maintain order. The order that you put things in is the order that you get them out.\n",
    "7) List is dynamic.\n",
    "\n",
    "----------------------------------------------------------------------------------------------------\n",
    "===============\n",
    "List Functions:\n",
    "===============\n",
    "\n",
    "list(): Creating an empty list\n",
    "        list_name = list()\n",
    "        OR\n",
    "        list_name = []\n",
    "\n",
    "len(): Returns the no of elements in the list \n",
    "\n",
    "append(): To add data item at the end\n",
    "\n",
    "insert(index, data_item): To insert element in between\n",
    "\n",
    "insert(0, data_item): Adds element at the beginning\n",
    "\n",
    "pop(): Removes the last element from the list (by default)\n",
    "\n",
    "pop(index): To remove an element from between of the given index\n",
    "\n",
    "remove(data_item): Removing an element without knowing the index but data\n",
    "                   Trying to remove an element which is not present in the list, error occurs\n",
    "\n",
    "sort(): Sorts the elements of a list in place in ASC order\n",
    "        Gives an error if all the elements are not of the same datatype\n",
    "        If the list contains strings only, elements get sorted in dictionary order\n",
    "\n",
    "sort(reverse=True): Sorts the elements of a list in place in DESC order\n",
    "\n",
    "reverse(): Reverse a list in place\n",
    "\n",
    "index(data_item): Returns the index of element in the list\n",
    "                  Gives an error if element is not present in the list\n",
    "                  \n",
    "count(data_item): To find the occurrence of an element\n",
    "\n",
    "clear(): Removes all the elements from the list but not the list\n",
    "\n",
    "copy(): To copy the elements of one list into another list\n",
    "        list2 = list1.copy() OR list2 = list1\n",
    "\n",
    "extend(list_to_be_added): Copying the contents of list2 to list1\n",
    "                          Example: list1.extend(list2)\n",
    "                          \n",
    "extend([elements]): Always accepts the list format as an argument\n",
    "\n",
    "split(): Creates a list by separating individual elements of a string separated by space\n",
    "         Takes a list and gives us back a string\n",
    "         It splits by default on whitespace and it treats more than one space as a single space\n",
    "         You can tell it to split on a different delimiter(character)\n",
    "         \n",
    "# To add the elements of two lists and in a new list: concatanate the lists\n",
    "Example: list3 = list1+list2\n",
    "\n",
    "sum(<list>)\n",
    "max(<list>)\n",
    "min(<list>)\n",
    "----------------------------------------------------------------------------------------------------\n",
    "\"\"\"\n",
    "\n",
    "a = 100\n",
    "print(type(a))\n",
    "a = [100]\n",
    "print(type(a))\n",
    "\n",
    "list1 = list()           # creating an empty list\n",
    "list1 = []               # alternative"
   ]
  },
  {
   "cell_type": "code",
   "execution_count": 2,
   "id": "3c9ef791",
   "metadata": {},
   "outputs": [
    {
     "name": "stdout",
     "output_type": "stream",
     "text": [
      "6\n",
      "[1, 2]\n",
      "[1, 2, 3, 'hi', True, (3+5j)]\n",
      "[100, 2, 3, 'hi', True, (3+5j)]\n",
      "[100, 2, 3, 'hi', True, (3+5j), 'hello']\n",
      "[100, 2, 3, 'hi', True, 'element6', (3+5j), 'hello']\n",
      "[100, 2, 3, 'hi', True, 'element6', (3+5j)]\n",
      "[100, 2, 3, 'hi', True, (3+5j)]\n",
      "[2, 3, 'hi', True, (3+5j)]\n"
     ]
    }
   ],
   "source": [
    "list1 = [1,2,3,\"hi\",True,3+5j]\n",
    "print(len(list1))\n",
    "\n",
    "print(list1[:2])\n",
    "\n",
    "print(list1)\n",
    "\n",
    "list1[0] = 100\n",
    "print(list1)\n",
    "\n",
    "list1.append('hello')\n",
    "print(list1)\n",
    "\n",
    "list1.insert(5,'element6')\n",
    "print(list1)\n",
    "\n",
    "list1.pop()\n",
    "print(list1)\n",
    "\n",
    "list1.pop(5)\n",
    "print(list1)\n",
    "\n",
    "list1.remove(100)\n",
    "print(list1)"
   ]
  },
  {
   "cell_type": "code",
   "execution_count": 3,
   "id": "e033bf4d",
   "metadata": {},
   "outputs": [
    {
     "name": "stdout",
     "output_type": "stream",
     "text": [
      "[1, 10, 2, 20]\n",
      "[1, 2, 10, 20]\n",
      "[20, 10, 2, 1]\n",
      "[20, 2, 10, 1]\n",
      "['abc']\n",
      "0\n",
      "['abc', 'abc']\n",
      "[]\n"
     ]
    }
   ],
   "source": [
    "list1 = [1,10,2,20]\n",
    "print(list1)\n",
    "\n",
    "list1.sort()             # ASC order\n",
    "print(list1)\n",
    "\n",
    "list1 = [1,10,2,20]\n",
    "list1.sort(reverse=True) # DESC order\n",
    "print(list1)\n",
    "\n",
    "list1 = [1,10,2,20]\n",
    "list1.reverse()\n",
    "print(list1)\n",
    "\n",
    "list1 = [\"abc\"]\n",
    "list1.sort()             # If the list contains strings only, elements get sorted in dictionary order\n",
    "print(list1)\n",
    "\n",
    "print(list1.count(10))\n",
    "\n",
    "# To copy the elements of one list into another list\n",
    "list2 = list1 # Alternative: list2 = list1.copy()\n",
    "\n",
    "\n",
    "# To add the elements of two lists and in a new list\n",
    "list3 = list1+list2\n",
    "\n",
    "list1.extend(list2) # Copying the contents of list2 to list1\n",
    "# extend([elements]): Always accepts the list format as an argument\n",
    "print(list1)\n",
    "\n",
    "list1.clear()\n",
    "print(list1)"
   ]
  },
  {
   "cell_type": "code",
   "execution_count": 4,
   "id": "b649f7ed",
   "metadata": {},
   "outputs": [
    {
     "name": "stdout",
     "output_type": "stream",
     "text": [
      "bye\n",
      "y\n"
     ]
    }
   ],
   "source": [
    "# To store a list inside a list\n",
    "l1 = ['a','a','bcd',['hi','bye']]\n",
    "print(l1[-1][-1])\n",
    "print(l1[-1][-1][-2])  # To access the element of the list inside a list"
   ]
  },
  {
   "cell_type": "code",
   "execution_count": 5,
   "id": "c8a86411",
   "metadata": {},
   "outputs": [
    {
     "name": "stdout",
     "output_type": "stream",
     "text": [
      "4\n",
      "hi\n",
      "hello\n",
      "hi\n",
      "hi\n",
      "['hi', 'hello']\n"
     ]
    }
   ],
   "source": [
    "\"\"\"\n",
    "Write a program to add given number of elements to a list and return list without duplicate values.\n",
    "-------\n",
    "i/p:\n",
    "\n",
    "3\n",
    "hi\n",
    "hi\n",
    "hello\n",
    "-------\n",
    "o/p:\n",
    "['hi','hello']\n",
    "\"\"\"\n",
    "\n",
    "items = int(input())\n",
    "l1 = []              # creating an empty list\n",
    "for i in range(items):  # 0 to items-1\n",
    "    data = input()\n",
    "    if data in l1:\n",
    "        pass # do not do anything\n",
    "    else:\n",
    "        l1.append(data)  # To push the element in the list\n",
    "print(l1)"
   ]
  },
  {
   "cell_type": "code",
   "execution_count": 6,
   "id": "80010d6a",
   "metadata": {},
   "outputs": [
    {
     "name": "stdout",
     "output_type": "stream",
     "text": [
      "5\n",
      "21 36 50 42 88\n",
      "30\n",
      "60\n",
      "36 50 42 "
     ]
    }
   ],
   "source": [
    "\"\"\"\n",
    "Input:\n",
    "6                    size of the list\n",
    "29 38 12 48 39 55    list elements\n",
    "30                   low limit\n",
    "50                   high limit\n",
    "---------------------------------------\n",
    "Output:\n",
    "38 48 49\n",
    "---------------------------------------\n",
    "Explanation:\n",
    "There are three employees with distances 38, 48 and 39 whose distance from the office lies within the given range.\n",
    "\"\"\"\n",
    "n = int(input())             # input is taken in a single line so it can be treated as a string\n",
    "\n",
    "data = input().split()       # split(): creates a list by separating individual elements of a string separated by space\n",
    "                             # push the elements to the list\n",
    "lo = int(input())\n",
    "up = int(input())\n",
    "\n",
    "for dist in data:            # slice the string by using: for dist in data[0:n], use it if above for loop not done for taking input\n",
    "    if lo<=int(dist)<=up:\n",
    "        print(dist,end = \" \")"
   ]
  },
  {
   "cell_type": "code",
   "execution_count": 7,
   "id": "b7f26553",
   "metadata": {},
   "outputs": [
    {
     "name": "stdout",
     "output_type": "stream",
     "text": [
      "400\n",
      "1\n",
      "1010\n",
      "[1, 2, 3, 4]\n"
     ]
    }
   ],
   "source": [
    "l1 = [1,2,3,4,400,300,200,100]\n",
    "print(max(l1)) # max() gives the max of all elements in list\n",
    "print(min(l1)) # min() gives the min of all elements in list\n",
    "print(sum(l1)) # gives the sum of all elements\n",
    "\n",
    "# To remove last 4 elements without loop or pop() function\n",
    "l1 = l1[0:4]\n",
    "print(l1)"
   ]
  },
  {
   "cell_type": "markdown",
   "id": "3e0535ee",
   "metadata": {},
   "source": [
    "# List Comprehension"
   ]
  },
  {
   "cell_type": "code",
   "execution_count": 8,
   "id": "7d4960f9",
   "metadata": {},
   "outputs": [
    {
     "name": "stdout",
     "output_type": "stream",
     "text": [
      "[1, 4, 9, 16, 25]\n"
     ]
    }
   ],
   "source": [
    "\"\"\"\n",
    "===================\n",
    "LIST COMPREHENSION: Creating a list without using a for loop\n",
    "===================\n",
    "\"\"\"\n",
    "\n",
    "# Program: To create a second list having elements as the square of elements present in the first list\n",
    "\n",
    "'''\n",
    "# Normal approach\n",
    "l1 = [1,2,3,4,5]\n",
    "l2 = []\n",
    "for ele in l1:\n",
    "   l2.append(ele**2)\n",
    "print(l2)\n",
    "'''\n",
    "\n",
    "# Using List Comprehension\n",
    "l1 = [1,2,3,4,5]\n",
    "l2 = [ele**2 for ele in l1]\n",
    "print(l2)"
   ]
  },
  {
   "cell_type": "markdown",
   "id": "704e91ce",
   "metadata": {},
   "source": [
    "### Programs on Matrix Calculations"
   ]
  },
  {
   "cell_type": "code",
   "execution_count": 9,
   "id": "0324c381",
   "metadata": {},
   "outputs": [
    {
     "name": "stdout",
     "output_type": "stream",
     "text": [
      "Enter size of matrix: 3\n",
      "1 2 3\n",
      "4 5 6\n",
      "7 8 9\n",
      "[[1, 2, 3], [4, 5, 6], [7, 8, 9]]\n",
      "The matrix is:\n",
      "1 2 3 \n",
      "4 5 6 \n",
      "7 8 9 \n",
      "Sum of diagonal elements is: 15\n",
      "Sum of row 0 is 6\n",
      "Sum of row 1 is 15\n",
      "Sum of row 2 is 24\n"
     ]
    }
   ],
   "source": [
    "# MATRIX\n",
    "\"\"\"\n",
    "a[3][3]\n",
    "We can perform using nested lists\n",
    "\n",
    "Add row 1, row 2, ..., row n, as element to the list\n",
    "[[r1],[r2],[r3]]\n",
    "\n",
    "[[1, 2, 3], [4, 5, 6], [7, 8, 9]]\n",
    "-----------------------------------------------------------\n",
    "Get the matrix representation using nested for loop\n",
    "\n",
    "    c1   c2   c3\n",
    "r1  1    2    3\n",
    "r2  4    5    6\n",
    "r3  7    8    9\n",
    "-----------------------------------------------------------\n",
    "\"\"\"\n",
    "\n",
    "#Reading and writing matrix using list (COMMON for all programs below in this cell)\n",
    "matrix = []\n",
    "a = int(input(\"Enter size of matrix: \"))\n",
    "for row in range(1,a+1):\n",
    "    b = input().split()           #string format\n",
    "    b = [int(ele) for ele in b]   #integer format\n",
    "    matrix.append(b)\n",
    "    \n",
    "print(matrix)\n",
    "\n",
    "#To print the list in the form of a matrix\n",
    "print(\"The matrix is:\")\n",
    "\n",
    "for row in range(0,a):\n",
    "    for col in range(0,a):\n",
    "        print(matrix[row][col], end = \" \")\n",
    "    print()\n",
    "\n",
    "#Finding the sum of diagonal elements\n",
    "sum1 = 0\n",
    "for row in range(0,a):\n",
    "    for col in range(0,a):\n",
    "        if row==col:\n",
    "            sum1 = sum1+matrix[row][col]\n",
    "            \n",
    "print(\"Sum of diagonal elements is:\",sum1)\n",
    "\n",
    "#Sum of individual row of matrix\n",
    "for row in range(0,a):\n",
    "    sum2 = 0\n",
    "    for col in range(0,a):\n",
    "        sum2 = sum2+matrix[row][col]\n",
    "    print(f\"Sum of row {row} is\",sum2)"
   ]
  },
  {
   "cell_type": "markdown",
   "id": "f904a9ba",
   "metadata": {},
   "source": [
    "# Tuples"
   ]
  },
  {
   "cell_type": "code",
   "execution_count": 10,
   "id": "b38f9a16",
   "metadata": {},
   "outputs": [
    {
     "name": "stdout",
     "output_type": "stream",
     "text": [
      "<class 'tuple'>\n",
      "(5, 4)\n",
      "1\n",
      "3\n"
     ]
    }
   ],
   "source": [
    "#TUPLES\n",
    "\"\"\"\n",
    "=================\n",
    "Tuple Properties:\n",
    "=================\n",
    "\n",
    "1) Immutable\n",
    "2) Declared using paranthesis\n",
    "3) Access elements of a tuple using index\n",
    "\n",
    "-----------------------------------------------------------------------------------------\n",
    "Only 2 in-built functions are available for a tuple:\n",
    "\n",
    "count(): To count the occurrences of a data item\n",
    "index(): To find the index of a data item\n",
    "\n",
    "Few others: sum(), min(), max()\n",
    "\n",
    "Used when we do not need data loss as we can not modify the elements of a tuple\n",
    "\n",
    "-----------------------------------------------------------------------------------------\n",
    "\"\"\"\n",
    "tuple1 = (1,2,3,4,5)\n",
    "print(type(tuple1))\n",
    "print(tuple1[-1:-3:-1])\n",
    "print(tuple1.count(1))\n",
    "print(tuple1.index(4))"
   ]
  },
  {
   "cell_type": "code",
   "execution_count": 11,
   "id": "770f08c4",
   "metadata": {},
   "outputs": [
    {
     "name": "stdout",
     "output_type": "stream",
     "text": [
      "2\n",
      "['a', 'e', 'i', 'u']\n"
     ]
    }
   ],
   "source": [
    "vowels = ['a','e','i','o','u']\n",
    "vowels_tuple = ('a','e','i','o','u')\n",
    "str = \"hello\"\n",
    "v = 0\n",
    "for ele in str:\n",
    "    if ele in vowels:\n",
    "        v+=1\n",
    "print(v)\n",
    "\n",
    "#Removing an element from list does not throw an error but error is thrown when tried on tuple\n",
    "v = 0\n",
    "for ele in str:\n",
    "    if ele in vowels:\n",
    "        vowels.pop(-2)         #data loss in list\n",
    "        v+=1\n",
    "print(vowels)"
   ]
  },
  {
   "cell_type": "code",
   "execution_count": 12,
   "id": "578bacff",
   "metadata": {},
   "outputs": [
    {
     "name": "stdout",
     "output_type": "stream",
     "text": [
      "(1, 2, 3, 4, 5)\n",
      "[1, 2, 3, 4, 5]\n",
      "[1, 2, 3, 4, 5, 6]\n",
      "(1, 2, 3, 4, 5, 6)\n"
     ]
    }
   ],
   "source": [
    "# CONSTRUCTORS \n",
    "\"\"\"\n",
    "Constructors to convert one data type to another\n",
    "1) list()\n",
    "2) tuple()\n",
    "3) set()\n",
    "\"\"\"\n",
    "#To modify the elements present in a tuple we need to convert it into a list\n",
    "\n",
    "a = (1,2,3,4,5)\n",
    "print(a)\n",
    "a = list(a)\n",
    "print(a)\n",
    "a.append(6)\n",
    "print(a)\n",
    "a = tuple(a)\n",
    "print(a)"
   ]
  },
  {
   "cell_type": "code",
   "execution_count": null,
   "id": "7b986f36",
   "metadata": {},
   "outputs": [],
   "source": []
  }
 ],
 "metadata": {
  "kernelspec": {
   "display_name": "Python 3 (ipykernel)",
   "language": "python",
   "name": "python3"
  },
  "language_info": {
   "codemirror_mode": {
    "name": "ipython",
    "version": 3
   },
   "file_extension": ".py",
   "mimetype": "text/x-python",
   "name": "python",
   "nbconvert_exporter": "python",
   "pygments_lexer": "ipython3",
   "version": "3.9.13"
  }
 },
 "nbformat": 4,
 "nbformat_minor": 5
}
