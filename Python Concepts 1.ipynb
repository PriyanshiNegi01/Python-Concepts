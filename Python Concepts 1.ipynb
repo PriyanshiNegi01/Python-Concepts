{
 "cells": [
  {
   "cell_type": "markdown",
   "id": "09862f36",
   "metadata": {},
   "source": [
    "# Python Concepts 1\n",
    "\n",
    "### 1) Variables\n",
    "### 2) Datatypes\n",
    "### 3) Operators\n",
    "### 4) Assignments and Expressions\n",
    "### 5) Branching\n",
    "### 6) Output Formats: Printing Statements\n",
    "### --------------------------------------------------------------------------------------------------------------------------------------------------------"
   ]
  },
  {
   "cell_type": "markdown",
   "id": "7ecdd367",
   "metadata": {},
   "source": [
    "# Variables"
   ]
  },
  {
   "cell_type": "code",
   "execution_count": 7,
   "id": "0e2e5ae9",
   "metadata": {},
   "outputs": [
    {
     "name": "stdout",
     "output_type": "stream",
     "text": [
      "10\n",
      "5\n"
     ]
    }
   ],
   "source": [
    "# VARIABLES\n",
    "\"\"\"\n",
    "VARIABLE NAMES (Rules):\n",
    "\n",
    "1) Case sensitive ('VAR' is not the same as 'var' or 'Var')\n",
    "2) Should start with underscores or letters, not with a number\n",
    "3) Only contain alpha-numeric characters and underscores (A-z, 0-9, and _ )\n",
    "4) Cannot be a Python keyword\n",
    "\n",
    "-------------------------------------------------------------------------------------\n",
    "\"\"\"\n",
    "\n",
    "# Variables and assignment\n",
    "a = 10\n",
    "print(a)\n",
    "b = 5\n",
    "print(b)"
   ]
  },
  {
   "cell_type": "code",
   "execution_count": 3,
   "id": "8ec1f0c9",
   "metadata": {},
   "outputs": [
    {
     "name": "stdout",
     "output_type": "stream",
     "text": [
      "<class 'int'>\n",
      "<class 'str'>\n",
      "<class 'float'>\n",
      "True\n"
     ]
    }
   ],
   "source": [
    "# Dynamically-inferred types\n",
    "a = 10\n",
    "print(type(a))\n",
    "b = '10'\n",
    "print(type(b))\n",
    "c = 10.0\n",
    "print(type(c))\n",
    "print(isinstance(a,int))"
   ]
  },
  {
   "cell_type": "code",
   "execution_count": 8,
   "id": "eceb285e",
   "metadata": {},
   "outputs": [
    {
     "name": "stdout",
     "output_type": "stream",
     "text": [
      "<class 'int'>\n",
      "<class 'str'>\n"
     ]
    }
   ],
   "source": [
    "x = 5\n",
    "y = \"John\"\n",
    "print(type(x))\n",
    "print(type(y))"
   ]
  },
  {
   "cell_type": "markdown",
   "id": "f4f9cd35",
   "metadata": {},
   "source": [
    "### Type Casting"
   ]
  },
  {
   "cell_type": "code",
   "execution_count": 9,
   "id": "ab022023",
   "metadata": {},
   "outputs": [
    {
     "name": "stdout",
     "output_type": "stream",
     "text": [
      "15\n"
     ]
    }
   ],
   "source": [
    "# Manual type-casting (string to int)\n",
    "a = 10\n",
    "b = '5'\n",
    "print(a + int(b))"
   ]
  },
  {
   "cell_type": "code",
   "execution_count": 10,
   "id": "d61698f7",
   "metadata": {},
   "outputs": [
    {
     "name": "stdout",
     "output_type": "stream",
     "text": [
      "<class 'int'>\n",
      "<class 'float'>\n"
     ]
    }
   ],
   "source": [
    "# Automatic type-casting (int to float)\n",
    "a = 10\n",
    "print(type(a))\n",
    "a += 5.0\n",
    "print(type(a))"
   ]
  },
  {
   "cell_type": "code",
   "execution_count": 11,
   "id": "06a79ee0",
   "metadata": {},
   "outputs": [
    {
     "name": "stdout",
     "output_type": "stream",
     "text": [
      "2600199279760\n"
     ]
    }
   ],
   "source": [
    "ab = 90\n",
    "print(id(ab)) # gives us the memory allocation"
   ]
  },
  {
   "cell_type": "markdown",
   "id": "373d4f28",
   "metadata": {},
   "source": [
    "# Data Types"
   ]
  },
  {
   "cell_type": "code",
   "execution_count": null,
   "id": "75fbeccd",
   "metadata": {},
   "outputs": [],
   "source": [
    "# DATA TYPES\n",
    "\"\"\"\n",
    "Characters:A-Z, 0-9, special\n",
    "\n",
    "------------------------------------------------------------------------------------\n",
    "DATATYPE           EXAMPLES         CAN BE CONVERTED INTO\n",
    "1)int -               90                float,string\n",
    "2)float -           90.09                int,string\n",
    "3)string -       \"Hi\", 'Hello'\n",
    "4)boolean -        True, False\n",
    "5)complex(a+bj)-    \"3+4j\"\n",
    "\n",
    "-------------------------------------------------------------------------------------\n",
    "Constructors to convert the datatype:\n",
    "int()\n",
    "float()\n",
    "str()\n",
    "\n",
    "-------------------------------------------------------------------------------------\n",
    "\"\"\""
   ]
  },
  {
   "cell_type": "markdown",
   "id": "8915c7e1",
   "metadata": {},
   "source": [
    "# Operators"
   ]
  },
  {
   "cell_type": "code",
   "execution_count": null,
   "id": "0182ab24",
   "metadata": {},
   "outputs": [],
   "source": [
    "\"\"\"\n",
    "==========\n",
    "OPERATORS:\n",
    "==========\n",
    "-------------------------------------------------------------------------------------\n",
    "ARITHMETIC OPERATORS:\n",
    "+  Addition\n",
    "-  Subtraction\n",
    "*  Multiplication\n",
    "/  Division\n",
    "%  Modulus\n",
    "** Exponentiation\n",
    "// Floor division\n",
    "-------------------------------------------------------------------------------------\n",
    "LOGICAL OPERATORS: and, or, not\n",
    "-------------------------------------------------------------------------------------\n",
    "IDENTITY OPERATORS: is, is not\n",
    "\n",
    "\n",
    "NOTE: == : compares values\n",
    "\n",
    "      is & is not : compare memory allocation\n",
    "-------------------------------------------------------------------------------------\n",
    "MEMBERSHIP OPERATORS: in, not in\n",
    "\n",
    "in: checks if an item is present in given set of items (list/array/tuple/dict)\n",
    "-------------------------------------------------------------------------------------\n",
    "RELATIONAL OPERATORS (Compare 2 data inputs): <,>,<=,>=,==,!=\n",
    "-------------------------------------------------------------------------------------\n",
    "\"\"\""
   ]
  },
  {
   "cell_type": "markdown",
   "id": "4f67cb63",
   "metadata": {},
   "source": [
    "# Assignments and Expressions"
   ]
  },
  {
   "cell_type": "code",
   "execution_count": 12,
   "id": "db6c456d",
   "metadata": {},
   "outputs": [
    {
     "name": "stdout",
     "output_type": "stream",
     "text": [
      "Spam\n",
      "yum YUM\n",
      "yum YUM\n",
      "s p a m\n",
      "lunch lunch\n",
      "51\n"
     ]
    }
   ],
   "source": [
    "spam = 'Spam'                # Basic form\n",
    "print(spam)\n",
    "\n",
    "spam, ham = 'yum', 'YUM'     # Tuple assignment (positional)\n",
    "print(spam,ham)\n",
    "\n",
    "[spam, ham] = ['yum', 'YUM'] # List assignment (positional)\n",
    "print(spam,ham)\n",
    "\n",
    "a, b, c, d  = 'spam'         # Sequence assignment, generalized\n",
    "print(a,b,c,d)\n",
    "\n",
    "#a,*b = 'spam'               # Extended sequence unpacking (Python 3.0)\n",
    "#print(a,b)\n",
    "\n",
    "spam = ham = 'lunch'         # Multiple-target assignment\n",
    "print(spam,ham)\n",
    "\n",
    "number=9\n",
    "number += 42                 # Augmented assignment \n",
    "print(number)"
   ]
  },
  {
   "cell_type": "markdown",
   "id": "baa29bcd",
   "metadata": {},
   "source": [
    "# Branching"
   ]
  },
  {
   "cell_type": "code",
   "execution_count": null,
   "id": "6cef0dd4",
   "metadata": {},
   "outputs": [],
   "source": [
    "\"\"\"\n",
    "# if Statement\n",
    "\n",
    "        Syntax :\n",
    "            if BOOLEAN EXPRESSION:\n",
    "                STATEMENTS\n",
    "                \n",
    "# if_Else statement:\n",
    "    \n",
    "        Syntax :\n",
    "            if BOOLEAN EXPRESSION:\n",
    "                STATEMENTS_1        # executed if condition evaluates to True\n",
    "            else:\n",
    "                STATEMENTS_2        # executed if condition evaluates to False\n",
    "                \n",
    "# Chanined Conditionals:\n",
    "    \n",
    "        Syntax :\n",
    "            if x < y:\n",
    "                STATEMENTS_A\n",
    "            elif x > y:\n",
    "                STATEMENTS_B\n",
    "            else:\n",
    "                STATEMENTS_C\n",
    "                \n",
    "# Nested if :\n",
    "\n",
    "        Syntax :\n",
    "            if expression1:\n",
    "                statement(s)\n",
    "                if expression2:\n",
    "                    statement(s)\n",
    "                elif expression3:\n",
    "                    statement(s)\n",
    "                else:\n",
    "                    statement(s)\n",
    "                elif expression4:\n",
    "                    statement(s)\n",
    "            else:\n",
    "                statement(s)\n",
    "                \n",
    "# Pass in if \n",
    "\n",
    "    if True:          # This is always true\n",
    "        pass          # so this is always executed, but it does nothing\n",
    "    else:\n",
    "        pass\n",
    "\"\"\""
   ]
  },
  {
   "cell_type": "code",
   "execution_count": 1,
   "id": "8ebe4229",
   "metadata": {},
   "outputs": [
    {
     "name": "stdout",
     "output_type": "stream",
     "text": [
      "2.0\n",
      "0.5\n",
      "65\n"
     ]
    }
   ],
   "source": [
    "# Integer division\n",
    "a = 10\n",
    "b = 5\n",
    "\n",
    "print(a/b)\n",
    "print(float(b)/a)\n",
    "print(int('101',8))"
   ]
  },
  {
   "cell_type": "code",
   "execution_count": 10,
   "id": "43df8e6b",
   "metadata": {},
   "outputs": [
    {
     "name": "stdout",
     "output_type": "stream",
     "text": [
      "1.5\n"
     ]
    }
   ],
   "source": [
    "# Forcing float division\n",
    "b='3'\n",
    "a=2.0\n",
    "\n",
    "print(float(b)/a)"
   ]
  },
  {
   "cell_type": "code",
   "execution_count": 11,
   "id": "3366a13d",
   "metadata": {},
   "outputs": [
    {
     "name": "stdout",
     "output_type": "stream",
     "text": [
      "<class 'int'>\n",
      "<class 'str'>\n"
     ]
    }
   ],
   "source": [
    "num = 100\n",
    "print(type(num))  # returns the type\n",
    "\n",
    "num = str(num)    # converting integer to string\n",
    "print(type(num))"
   ]
  },
  {
   "cell_type": "code",
   "execution_count": 12,
   "id": "b3207e63",
   "metadata": {},
   "outputs": [
    {
     "name": "stdout",
     "output_type": "stream",
     "text": [
      "<class 'bool'>\n",
      "<class 'complex'>\n",
      "0j\n"
     ]
    }
   ],
   "source": [
    "num = False\n",
    "print(type(num))\n",
    "\n",
    "num = complex(num)  # converting bool to complex\n",
    "print(type(num))\n",
    "print(num)"
   ]
  },
  {
   "cell_type": "code",
   "execution_count": 13,
   "id": "69d44e91",
   "metadata": {},
   "outputs": [
    {
     "name": "stdout",
     "output_type": "stream",
     "text": [
      "True\n"
     ]
    }
   ],
   "source": [
    "print(9>5)\n",
    "\n",
    "# print(9>'a') # TypeError: Cannot compare instances of different datatypes"
   ]
  },
  {
   "cell_type": "code",
   "execution_count": 14,
   "id": "cbea0f44",
   "metadata": {},
   "outputs": [
    {
     "name": "stdout",
     "output_type": "stream",
     "text": [
      "False\n"
     ]
    }
   ],
   "source": [
    "num='a'\n",
    "num=ord(num) # ord() function gives us the ASCII value of the passed argument\n",
    "print(9>num)"
   ]
  },
  {
   "cell_type": "code",
   "execution_count": 15,
   "id": "63a00429",
   "metadata": {},
   "outputs": [
    {
     "name": "stdout",
     "output_type": "stream",
     "text": [
      "False\n",
      "False\n"
     ]
    }
   ],
   "source": [
    "print(9<10>11>10)\n",
    "\n",
    "print(9<10 and 10>11 and 11>10)"
   ]
  },
  {
   "cell_type": "code",
   "execution_count": 16,
   "id": "8a04ceef",
   "metadata": {},
   "outputs": [
    {
     "name": "stdout",
     "output_type": "stream",
     "text": [
      "30\n"
     ]
    }
   ],
   "source": [
    "\"\"\"\n",
    "BITWISE OPERATORS:\n",
    "\n",
    "Leftshift: Multiply by 2^n\n",
    "Rightshift: Divide by 2^n\n",
    "\n",
    "Leftshift 20 by 2:     10100 = 20  #right   01010 = 10 #left\n",
    "         10 - 0        01010 = 10           10100 = 20\n",
    "          5 - 0        00101 =  5\n",
    "          2 - 1\n",
    "          1 - 0\n",
    "\"\"\"\n",
    "a, b=20, 10    # Comma is also a special operator\n",
    "print(a+b)"
   ]
  },
  {
   "cell_type": "code",
   "execution_count": 17,
   "id": "c6190a6c",
   "metadata": {},
   "outputs": [
    {
     "name": "stdout",
     "output_type": "stream",
     "text": [
      "1668045040208\n",
      "1668045040528\n",
      "No\n",
      "Yes\n"
     ]
    }
   ],
   "source": [
    "\"\"\"\n",
    "MEMBERSHIP OPERATORS: To compare memory addresses\n",
    "\n",
    "in, not in\n",
    "\"\"\"\n",
    "\n",
    "a=10\n",
    "b=20\n",
    "\n",
    "print(id(a))\n",
    "print(id(b))\n",
    "\n",
    "if a is b:\n",
    "    print(\"Yes\")\n",
    "else:\n",
    "    print(\"No\")\n",
    "    \n",
    "if 1 in (1,2,3,4):\n",
    "    print(\"Yes\")\n",
    "else:\n",
    "    print(\"No\")"
   ]
  },
  {
   "cell_type": "code",
   "execution_count": 2,
   "id": "648048b4",
   "metadata": {},
   "outputs": [
    {
     "name": "stdout",
     "output_type": "stream",
     "text": [
      "abcd\n",
      "10\n",
      "abcdabcdab\n"
     ]
    }
   ],
   "source": [
    "\"\"\"\n",
    "Write a program such that\n",
    "------------------------\n",
    "i/p:\n",
    "abcd\n",
    "10\n",
    "------------------------\n",
    "o/p:\n",
    "abcdabcdab\n",
    "\"\"\"\n",
    "\n",
    "str1=input()\n",
    "num=int(input())\n",
    "\n",
    "if num<len(str1):\n",
    "    print(str1[0:num])\n",
    "else:\n",
    "    t=num//len(str1)\n",
    "    r=num%len(str1)\n",
    "    str2=(t*str1)+str1[0:r]\n",
    "    print(str2)"
   ]
  },
  {
   "cell_type": "markdown",
   "id": "04f5c075",
   "metadata": {},
   "source": [
    "# Output Formats - Printing Statements"
   ]
  },
  {
   "cell_type": "code",
   "execution_count": 4,
   "id": "203ce83a",
   "metadata": {},
   "outputs": [
    {
     "name": "stdout",
     "output_type": "stream",
     "text": [
      "Hello\n",
      "Hello hi Hello hi \n",
      "Hello\n",
      "4\n",
      "The number is: 4 2 16\n",
      "The number is 4 half is 2\n",
      "The number is 4 half is 2\n",
      "The number is 2 half is 16 4\n",
      "The number is 4 half is 2 square is 16\n",
      "The number is 4 half is 2 16 hr:1\n"
     ]
    }
   ],
   "source": [
    "\"\"\"\n",
    "OUTPUT in Python is given using the print statement- print()\n",
    "\"\"\"\n",
    "a = 4\n",
    "print(\"Hello\")\n",
    "print(\"Hello\",end = \" hi \")                                   #removes the newline character from the EOL and assigns the passed data at the end of line\n",
    "print(\"Hello\",end = \" hi \\n\") \n",
    "print('Hello')\n",
    "print(a)\n",
    "print(\"The number is:\",a,a//2,a**2)\n",
    "print(\"The number is\",a,\"half is\",a//2)\n",
    "\n",
    "#.format method\n",
    "print(\"The number is {} half is {}\".format(a,a//2))\n",
    "print(\"The number is {1} half is {2} {0}\".format(a,a//2,a**2))  #to change the order\n",
    "\n",
    "#f.string method\n",
    "print(f\"The number is {a} half is {a//2} square is {a**2}\")\n",
    "\n",
    "print(f\"The number is {a} half is {a//2} {a**2} {'hr:1'}\")\n",
    "# print(f\"The number is {a} half is {a//2} {a**2} {\"hr:1\"}\")      #Double quotes give error since no specific differentiation of string ending"
   ]
  },
  {
   "cell_type": "code",
   "execution_count": null,
   "id": "32679dec",
   "metadata": {},
   "outputs": [],
   "source": []
  }
 ],
 "metadata": {
  "kernelspec": {
   "display_name": "Python 3 (ipykernel)",
   "language": "python",
   "name": "python3"
  },
  "language_info": {
   "codemirror_mode": {
    "name": "ipython",
    "version": 3
   },
   "file_extension": ".py",
   "mimetype": "text/x-python",
   "name": "python",
   "nbconvert_exporter": "python",
   "pygments_lexer": "ipython3",
   "version": "3.9.13"
  }
 },
 "nbformat": 4,
 "nbformat_minor": 5
}
