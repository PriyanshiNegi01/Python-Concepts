{
 "cells": [
  {
   "cell_type": "markdown",
   "id": "3ba5aa96",
   "metadata": {},
   "source": [
    "# Python Basics 2\n",
    "\n",
    "### 1) For Loop\n",
    "### 2) Programs on: String Patterns, Programs\n",
    "### 3) While Loop\n",
    "### 4) Programs on: No of digits, Prime numbers, Factorial, Armstrong number\n",
    "### 5) Nested Loops\n",
    "### 6) Programs\n",
    "### --------------------------------------------------------------------------------------------------------------------------------------------------------"
   ]
  },
  {
   "cell_type": "markdown",
   "id": "8e4d8883",
   "metadata": {},
   "source": [
    "# Looping Statements"
   ]
  },
  {
   "cell_type": "code",
   "execution_count": 1,
   "id": "786d95a7",
   "metadata": {},
   "outputs": [
    {
     "data": {
      "text/plain": [
       "'\\n======\\nLOOPS\\n======\\nTo perform a specific task multiple times instead of repeating the same code again and again.\\n\\n1) For loop: iterate something for the exact number of times...we know the starting and end point\\n\\n2) While loop: iterate something based on a condition\\n\\nWe can convert every for loop into a while loop but we cannot convert every while loop into a for loop\\n\\n--------------------------------------------------------------------------------------------------------------\\n# for loop:\\n\\n        Syntax :\\n             \\n            for item in sequence:\\n                statements(s)\\n                \\n# Nested For loop:\\n\\n        Syntax :\\n        \\n            for iterator_var in sequence:\\n                for iterator_var in sequence:\\n                    statements(s)\\n                    statements(s)\\n                    \\n# for loop with range :\\n\\n        Syntax:\\n            \\n            for x in range(start):\\n                print(x)\\n\\n            \\n            for x in range(start, stop):\\n                print(x)\\n\\n            \\n            for x in range(start, end , iteration):\\n                print(x)\\n--------------------------------------------------------------------------------------------------------------\\n# While Loop:\\n\\n        Syntax :\\n            \\n            while expression:\\n                statement(s)\\n\\n\\n# while loop with else\\n\\nwhile condition:\\n    handle_true()\\nelse:\\n    # condition is false now, handle and go on with the rest of the program\\n    handle_false()\\n'"
      ]
     },
     "execution_count": 1,
     "metadata": {},
     "output_type": "execute_result"
    }
   ],
   "source": [
    "\"\"\"\n",
    "======\n",
    "LOOPS\n",
    "======\n",
    "To perform a specific task multiple times instead of repeating the same code again and again.\n",
    "\n",
    "1) For loop: iterate something for the exact number of times...we know the starting and end point\n",
    "\n",
    "2) While loop: iterate something based on a condition\n",
    "\n",
    "We can convert every for loop into a while loop but we cannot convert every while loop into a for loop\n",
    "\n",
    "--------------------------------------------------------------------------------------------------------------\n",
    "# for loop:\n",
    "\n",
    "        Syntax :\n",
    "             \n",
    "            for item in sequence:\n",
    "                statements(s)\n",
    "                \n",
    "# Nested For loop:\n",
    "\n",
    "        Syntax :\n",
    "        \n",
    "            for iterator_var in sequence:\n",
    "                for iterator_var in sequence:\n",
    "                    statements(s)\n",
    "                    statements(s)\n",
    "                    \n",
    "# for loop with range :\n",
    "\n",
    "        Syntax:\n",
    "            \n",
    "            for x in range(start):\n",
    "                print(x)\n",
    "\n",
    "            \n",
    "            for x in range(start, stop):\n",
    "                print(x)\n",
    "\n",
    "            \n",
    "            for x in range(start, end , iteration):\n",
    "                print(x)\n",
    "--------------------------------------------------------------------------------------------------------------\n",
    "# While Loop:\n",
    "\n",
    "        Syntax :\n",
    "            \n",
    "            while expression:\n",
    "                statement(s)\n",
    "\n",
    "\n",
    "# while loop with else\n",
    "\n",
    "while condition:\n",
    "    handle_true()\n",
    "else:\n",
    "    # condition is false now, handle and go on with the rest of the program\n",
    "    handle_false()\n",
    "\"\"\""
   ]
  },
  {
   "cell_type": "markdown",
   "id": "6c60603c",
   "metadata": {},
   "source": [
    "## For Loop"
   ]
  },
  {
   "cell_type": "code",
   "execution_count": 2,
   "id": "68f29bf7",
   "metadata": {},
   "outputs": [
    {
     "name": "stdout",
     "output_type": "stream",
     "text": [
      "1\n",
      "2\n",
      "3\n",
      "hello\n",
      "True\n",
      "(4+3j)\n",
      "Hello\n",
      "Hello\n",
      "Hello\n",
      "Hello\n",
      "Hello\n",
      "Hello\n",
      "Hello\n",
      "Hello\n",
      "Hello\n",
      "Hello\n",
      "Hello\n",
      "Hello\n",
      "Hello\n",
      "Hello\n",
      "Hello\n",
      "Hi\n",
      "Hi\n",
      "Hi\n",
      "H\n",
      "e\n",
      "l\n",
      "l\n",
      "o\n",
      "P\n",
      "r\n",
      "i\n",
      "y\n",
      "a\n"
     ]
    }
   ],
   "source": [
    "# FOR LOOP: iterate something for the exact number of times...we know the starting and end point\n",
    "\n",
    "for variable in (1,2,3,\"hello\",True,4+3j):    # any datatype can be used\n",
    "    print(variable) # the loop runs for the count of the items given\n",
    "\n",
    "for variable in (1,2,3,\"hello\",True,4+3j):\n",
    "    print(\"Hello\")\n",
    "\n",
    "for number in range(1,10,1):    # range(start,stop,step): The last element is excluded\n",
    "    print(\"Hello\")\n",
    "    \n",
    "for number in range(1,10,3): \n",
    "    print(\"Hi\")\n",
    "    \n",
    "# Range is used only when the elements follow a common difference or common logic i.e.,certain order\n",
    "\n",
    "a = \"Hello\"\n",
    "for variable in a:\n",
    "    print(variable)\n",
    "\n",
    "for variable in \"Priya\":\n",
    "    print(variable)"
   ]
  },
  {
   "cell_type": "markdown",
   "id": "bd572abd",
   "metadata": {},
   "source": [
    "### Programs"
   ]
  },
  {
   "cell_type": "code",
   "execution_count": 3,
   "id": "8c48ea84",
   "metadata": {},
   "outputs": [
    {
     "name": "stdout",
     "output_type": "stream",
     "text": [
      "*\n",
      "**\n",
      "***\n",
      "****\n",
      "*****\n",
      "****\n",
      "***\n",
      "**\n",
      "*\n"
     ]
    }
   ],
   "source": [
    "# STRING PATTERN\n",
    "\n",
    "my_string=\"*\"\n",
    "n = 5\n",
    "for i in range (1,n+1):\n",
    "    print(my_string*i)\n",
    "for i in range(1,n):\n",
    "    print(my_string*(n-i))    "
   ]
  },
  {
   "cell_type": "code",
   "execution_count": 4,
   "id": "67d84fba",
   "metadata": {},
   "outputs": [
    {
     "name": "stdout",
     "output_type": "stream",
     "text": [
      "        *   \n",
      "       *  *   \n",
      "      *  *  *   \n",
      "     *  *  *  *   \n",
      "    *  *  *  *  *   \n"
     ]
    }
   ],
   "source": [
    "# Triangle Pyramid\n",
    "\n",
    "n = 5 \n",
    "m = (2 * n) - 2  \n",
    "for i in range(0, n):  \n",
    "    for j in range(0, m):  \n",
    "        print(end=\" \")  \n",
    "    m = m - 1  \n",
    "    for j in range(0, i + 1):\n",
    "        print(\"* \", end=' ')      #printing full Triangle pyramid using stars \n",
    "    print(\" \")  "
   ]
  },
  {
   "cell_type": "code",
   "execution_count": 5,
   "id": "cd3fe9df",
   "metadata": {},
   "outputs": [
    {
     "name": "stdout",
     "output_type": "stream",
     "text": [
      "* \n",
      "* * \n",
      "* * * \n",
      "* * * * \n",
      "* * * * * \n"
     ]
    }
   ],
   "source": [
    "# Pyramid Pattern\n",
    "\n",
    "n = 5\n",
    " \n",
    "for i in range(0, n):            # outer loop handles number of rows \n",
    "    for j in range(0, i + 1):    \n",
    "        print(\"* \", end=\"\")       \n",
    "    print()  # ending line after each row"
   ]
  },
  {
   "cell_type": "code",
   "execution_count": 6,
   "id": "633a1d66",
   "metadata": {},
   "outputs": [
    {
     "name": "stdout",
     "output_type": "stream",
     "text": [
      "        * \n",
      "      * * \n",
      "    * * * \n",
      "  * * * * \n",
      "* * * * * \n"
     ]
    }
   ],
   "source": [
    "# Reverse Pyramid\n",
    "\n",
    "rows = 5 \n",
    "k = 2 * rows - 2  # It is used for number of spaces  \n",
    "for i in range(0, rows):  \n",
    "    for j in range(0, k):  \n",
    "        print(end=\" \")  \n",
    "    k = k - 2   # decrement k value after each iteration  \n",
    "    for j in range(0, i + 1):  \n",
    "        print(\"* \", end=\"\")  # printing star  \n",
    "    print(\"\")  "
   ]
  },
  {
   "cell_type": "code",
   "execution_count": 7,
   "id": "de8bfdc1",
   "metadata": {},
   "outputs": [
    {
     "name": "stdout",
     "output_type": "stream",
     "text": [
      "2480\n",
      "4\n"
     ]
    }
   ],
   "source": [
    "# Program to find NUMBER OF DIGITS in a given no.\n",
    "\n",
    "n = int(input())    #Ex: 1234\n",
    "digits = 0\n",
    "\n",
    "while n!=0:\n",
    "    n = n//10       #= 123 , = 12, = 1, =0 (digits=4) We will be removing digits one by one using the floor division\n",
    "    digits+=1       #Simultaneously increment digits variable by 1\n",
    "    \n",
    "print(digits)"
   ]
  },
  {
   "cell_type": "code",
   "execution_count": 8,
   "id": "765718c8",
   "metadata": {},
   "outputs": [
    {
     "name": "stdout",
     "output_type": "stream",
     "text": [
      "17\n",
      "Prime number\n"
     ]
    }
   ],
   "source": [
    "# PRIME NUMBER: Program for finding if the given number is Prime or not\n",
    "\n",
    "n = int(input())\n",
    "\n",
    "if n<=0:\n",
    "    print(\"Please enter a valid input\")\n",
    "\n",
    "elif n==1:\n",
    "    print(\"The given number is a Composite number and not a Prime number\")\n",
    "else:\n",
    "    for i in range(2,n): #Do not put the start of the loop as 0 as it will give a ZeroDivisionError\n",
    "        rem = n%i\n",
    "    if rem==0:\n",
    "        print(\"Not a Prime number.\")\n",
    "    else:\n",
    "        print(\"Prime number\")"
   ]
  },
  {
   "cell_type": "code",
   "execution_count": 9,
   "id": "28b0beba",
   "metadata": {},
   "outputs": [
    {
     "name": "stdout",
     "output_type": "stream",
     "text": [
      "27\n",
      "Not Prime\n"
     ]
    }
   ],
   "source": [
    "# Prime Number (alternative approach)\n",
    "# Prime numbers have only 2 factors: 1 & the number itself\n",
    "\n",
    "n = int(input())\n",
    "factors = 0\n",
    "\n",
    "# for number in range(1,n+1): # We do not need to iterate over all the numbers as there are factors only till the half of the no.\n",
    "\n",
    "for i in range(2,(n//2)+1):  # reduced number of iterations (excluding 1 and the number itself)\n",
    "    if n%i==0:\n",
    "        factors+=1\n",
    "\n",
    "# if factors==2:\n",
    "if factors==0:\n",
    "    print(\"Prime\")\n",
    "else:\n",
    "    print(\"Not Prime\")"
   ]
  },
  {
   "cell_type": "code",
   "execution_count": 10,
   "id": "7d9a3ea1",
   "metadata": {},
   "outputs": [
    {
     "name": "stdout",
     "output_type": "stream",
     "text": [
      "0\n",
      "1\n",
      "4\n",
      "9\n",
      "16\n",
      "25\n",
      "36\n",
      "49\n",
      "64\n",
      "81\n",
      "100\n"
     ]
    }
   ],
   "source": [
    "# Python program to print the square of all numbers from 0 to 10\n",
    "\n",
    "for num in range(11):\n",
    "    square = num ** 2\n",
    "    print(square)"
   ]
  },
  {
   "cell_type": "code",
   "execution_count": 11,
   "id": "326053d3",
   "metadata": {},
   "outputs": [
    {
     "name": "stdout",
     "output_type": "stream",
     "text": [
      "The sum of even numbers from 0 to 10 is: 30\n"
     ]
    }
   ],
   "source": [
    "# Python program to find the sum of all even numbers from 0 to 10\n",
    "\n",
    "sum_of_evens = 0\n",
    "\n",
    "for num in range(0, 11, 2):\n",
    "    sum_of_evens += num\n",
    "\n",
    "print(\"The sum of even numbers from 0 to 10 is:\", sum_of_evens)"
   ]
  },
  {
   "cell_type": "code",
   "execution_count": 12,
   "id": "a2e3b187",
   "metadata": {},
   "outputs": [
    {
     "name": "stdout",
     "output_type": "stream",
     "text": [
      "Enter the value of 'a': 1\n",
      "Enter the value of 'b': 10\n",
      "Enter the value of 'c': 3\n",
      "Total 3 numbers between 1 and 10 are divisible by 3\n"
     ]
    }
   ],
   "source": [
    "# Python program to read three numbers (a,b,c) and check how many numbers between ‘a’ and ‘b’ are divisible by ‘c’\n",
    "\n",
    "a = int(input(\"Enter the value of 'a': \"))\n",
    "b = int(input(\"Enter the value of 'b': \"))\n",
    "c = int(input(\"Enter the value of 'c': \"))\n",
    "\n",
    "count = 0\n",
    "\n",
    "for num in range(a, b + 1):\n",
    "    if num % c == 0:\n",
    "        count += 1\n",
    "\n",
    "print(\"Total\", count, \"numbers between\", a, \"and\", b, \"are divisible by\", c)"
   ]
  },
  {
   "cell_type": "code",
   "execution_count": 13,
   "id": "eaf10c9e",
   "metadata": {},
   "outputs": [
    {
     "name": "stdout",
     "output_type": "stream",
     "text": [
      "5\n",
      "20\n",
      "7 11 13 17 19 "
     ]
    }
   ],
   "source": [
    "\"\"\"\n",
    "Write a program to print range of Prime numbers (exclusive of range)\n",
    "i/p: 5\n",
    "     15\n",
    "o/p: 7 11 13\n",
    "\"\"\"\n",
    "l = int(input())\n",
    "h = int(input())\n",
    "for num in range(l+1,h):\n",
    "    factors=0        # Initialize it for each value\n",
    "    for i in range(2,(num//2)+1):  # reduced number of iterations (excluding 1 and the number itself)\n",
    "        if num%i==0:\n",
    "            factors+=1\n",
    "    if factors==0:\n",
    "        print(num,end=' ')     # Number is Prime"
   ]
  },
  {
   "cell_type": "code",
   "execution_count": 14,
   "id": "f47fc328",
   "metadata": {},
   "outputs": [
    {
     "name": "stdout",
     "output_type": "stream",
     "text": [
      "Enter a string: abc\n",
      "a\n",
      "ab\n",
      "abc\n",
      "b\n",
      "bc\n",
      "c\n"
     ]
    }
   ],
   "source": [
    "\"\"\"\n",
    "Write a program for which\n",
    "\n",
    "i/p: abc\n",
    "\n",
    "o/p:\n",
    "a\n",
    "ab\n",
    "abc\n",
    "b\n",
    "bc\n",
    "c\n",
    "\"\"\"\n",
    "\n",
    "s = input(\"Enter a string: \")\n",
    "\n",
    "for i in range(len(s)):\n",
    "    for j in range(i+1, len(s)+1):\n",
    "        print(s[i:j])               # printing the string from i to j"
   ]
  },
  {
   "cell_type": "code",
   "execution_count": 15,
   "id": "9cdf48b4",
   "metadata": {},
   "outputs": [
    {
     "name": "stdout",
     "output_type": "stream",
     "text": [
      "1 * 1 = 1\n",
      "1 * 2 = 2\n",
      "1 * 3 = 3\n",
      "1 * 4 = 4\n",
      "1 * 5 = 5\n",
      "1 * 6 = 6\n",
      "1 * 7 = 7\n",
      "1 * 8 = 8\n",
      "1 * 9 = 9\n",
      "1 * 10 = 10\n",
      "2 * 1 = 2\n",
      "2 * 2 = 4\n",
      "2 * 3 = 6\n",
      "2 * 4 = 8\n",
      "2 * 5 = 10\n",
      "2 * 6 = 12\n",
      "2 * 7 = 14\n",
      "2 * 8 = 16\n",
      "2 * 9 = 18\n",
      "2 * 10 = 20\n",
      "3 * 1 = 3\n",
      "3 * 2 = 6\n",
      "3 * 3 = 9\n",
      "3 * 4 = 12\n",
      "3 * 5 = 15\n",
      "3 * 6 = 18\n",
      "3 * 7 = 21\n",
      "3 * 8 = 24\n",
      "3 * 9 = 27\n",
      "3 * 10 = 30\n",
      "4 * 1 = 4\n",
      "4 * 2 = 8\n",
      "4 * 3 = 12\n",
      "4 * 4 = 16\n",
      "4 * 5 = 20\n",
      "4 * 6 = 24\n",
      "4 * 7 = 28\n",
      "4 * 8 = 32\n",
      "4 * 9 = 36\n",
      "4 * 10 = 40\n",
      "5 * 1 = 5\n",
      "5 * 2 = 10\n",
      "5 * 3 = 15\n",
      "5 * 4 = 20\n",
      "5 * 5 = 25\n",
      "5 * 6 = 30\n",
      "5 * 7 = 35\n",
      "5 * 8 = 40\n",
      "5 * 9 = 45\n",
      "5 * 10 = 50\n",
      "6 * 1 = 6\n",
      "6 * 2 = 12\n",
      "6 * 3 = 18\n",
      "6 * 4 = 24\n",
      "6 * 5 = 30\n",
      "6 * 6 = 36\n",
      "6 * 7 = 42\n",
      "6 * 8 = 48\n",
      "6 * 9 = 54\n",
      "6 * 10 = 60\n",
      "7 * 1 = 7\n",
      "7 * 2 = 14\n",
      "7 * 3 = 21\n",
      "7 * 4 = 28\n",
      "7 * 5 = 35\n",
      "7 * 6 = 42\n",
      "7 * 7 = 49\n",
      "7 * 8 = 56\n",
      "7 * 9 = 63\n",
      "7 * 10 = 70\n",
      "8 * 1 = 8\n",
      "8 * 2 = 16\n",
      "8 * 3 = 24\n",
      "8 * 4 = 32\n",
      "8 * 5 = 40\n",
      "8 * 6 = 48\n",
      "8 * 7 = 56\n",
      "8 * 8 = 64\n",
      "8 * 9 = 72\n",
      "8 * 10 = 80\n",
      "9 * 1 = 9\n",
      "9 * 2 = 18\n",
      "9 * 3 = 27\n",
      "9 * 4 = 36\n",
      "9 * 5 = 45\n",
      "9 * 6 = 54\n",
      "9 * 7 = 63\n",
      "9 * 8 = 72\n",
      "9 * 9 = 81\n",
      "9 * 10 = 90\n",
      "10 * 1 = 10\n",
      "10 * 2 = 20\n",
      "10 * 3 = 30\n",
      "10 * 4 = 40\n",
      "10 * 5 = 50\n",
      "10 * 6 = 60\n",
      "10 * 7 = 70\n",
      "10 * 8 = 80\n",
      "10 * 9 = 90\n",
      "10 * 10 = 100\n"
     ]
    }
   ],
   "source": [
    "#MULTIPLICATION TABLES\n",
    "for x in range(1, 11):\n",
    "    for y in range(1, 11):\n",
    "        print ('%d * %d = %d' % (x, y, x*y))"
   ]
  },
  {
   "cell_type": "markdown",
   "id": "308a096d",
   "metadata": {},
   "source": [
    "## While Loop"
   ]
  },
  {
   "cell_type": "code",
   "execution_count": 16,
   "id": "83e5dd31",
   "metadata": {},
   "outputs": [
    {
     "name": "stdout",
     "output_type": "stream",
     "text": [
      "3\n",
      "2\n",
      "1\n",
      "Reached 0\n"
     ]
    }
   ],
   "source": [
    "# WHILE LOOP: iterate something based on a condition\n",
    "\n",
    "a=3\n",
    "while(a>0):\n",
    "    print(a)\n",
    "    a-=1\n",
    "else:\n",
    "    print(\"Reached 0\")"
   ]
  },
  {
   "cell_type": "code",
   "execution_count": 17,
   "id": "2d9955dd",
   "metadata": {},
   "outputs": [
    {
     "name": "stdout",
     "output_type": "stream",
     "text": [
      "0\n",
      "1\n",
      "2\n",
      "3\n",
      "4\n"
     ]
    }
   ],
   "source": [
    "# Prints out 0,1,2,3,4\n",
    "# Do while example\n",
    "count = 0\n",
    "while True:\n",
    "    print(count)\n",
    "    count += 1\n",
    "    if count >= 5:\n",
    "        break"
   ]
  },
  {
   "cell_type": "markdown",
   "id": "996d3c5e",
   "metadata": {},
   "source": [
    "### Programs"
   ]
  },
  {
   "cell_type": "code",
   "execution_count": 18,
   "id": "6b42f215",
   "metadata": {},
   "outputs": [
    {
     "name": "stdout",
     "output_type": "stream",
     "text": [
      "6\n",
      "720\n"
     ]
    }
   ],
   "source": [
    "# Program to find FACTORIAL of a number\n",
    "\n",
    "# 5! = 5*4*3*2*1\n",
    "\n",
    "n = int(input())\n",
    "factorial=1          # 0 factorial is 1\n",
    "while n!=1:\n",
    "    factorial=factorial * n\n",
    "    n-=1\n",
    "print(factorial)"
   ]
  },
  {
   "cell_type": "code",
   "execution_count": 19,
   "id": "52b55b44",
   "metadata": {},
   "outputs": [
    {
     "name": "stdout",
     "output_type": "stream",
     "text": [
      "5\n",
      "120\n"
     ]
    }
   ],
   "source": [
    "# FACTORIAL of a number using built-in function\n",
    "\n",
    "import math\n",
    "n = int(input())\n",
    "print(math.factorial(n))"
   ]
  },
  {
   "cell_type": "code",
   "execution_count": 20,
   "id": "7deb57ad",
   "metadata": {},
   "outputs": [
    {
     "name": "stdout",
     "output_type": "stream",
     "text": [
      "Enter a number: 153\n",
      "153 is an Armstrong number\n"
     ]
    }
   ],
   "source": [
    "# ARMSTRONG NUMBER Program\n",
    "\n",
    "\"\"\"\n",
    "Armstrong number is the no. in any given number base, which forms the total of the same number, \n",
    "when each of its digits is raised to the power of the no. of digits in the no.\n",
    "\n",
    "A positive integer is called an Armstrong number of order n if\n",
    "abcd... = a^n + b^n + c^n + d^n + ...\n",
    "where n = number of digits in the given number\n",
    "\n",
    "For example, in 153, there are 3 digits.\n",
    "It gives us 1^3 5^3 3^3=153 --> 1+125+27=153.\n",
    "Thus, 153 is an Armstrong number.\n",
    "\"\"\"\n",
    "# Python program to check if the number is an Armstrong number or not\n",
    "\n",
    "num = int(input(\"Enter a number: \"))\n",
    "\n",
    "# Changed num variable to string, and calculate the length (number of digits) to get order\n",
    "order = len(str(num))\n",
    "\n",
    "sum = 0 # variable to store the sum of each digit raised to the power of order\n",
    "\n",
    "# find the sum of each digit raised to the power of order\n",
    "\n",
    "temp = num\n",
    "while temp > 0:\n",
    "   digit = temp % 10\n",
    "   sum += digit ** order\n",
    "   temp //= 10     #integer division by 10 removes the last digit of the number\n",
    "\n",
    "# display the result\n",
    "if num == sum:\n",
    "   print(num,\"is an Armstrong number\")\n",
    "else:\n",
    "   print(num,\"is not an Armstrong number\")\n"
   ]
  },
  {
   "cell_type": "markdown",
   "id": "4e4d0bfb",
   "metadata": {},
   "source": [
    "# Nested Loops"
   ]
  },
  {
   "cell_type": "code",
   "execution_count": 21,
   "id": "32679dec",
   "metadata": {},
   "outputs": [
    {
     "name": "stdout",
     "output_type": "stream",
     "text": [
      "71\n",
      "71 is prime\n"
     ]
    }
   ],
   "source": [
    "\"\"\"\n",
    "=============\n",
    "NESTED LOOPS\n",
    "=============\n",
    "When we have to iterate over 2 variables at a time\n",
    "Printing range of prime numbers\n",
    "\"\"\"\n",
    "n = int(input())\n",
    "f = 0\n",
    "for i in range(2,(n//2)+1):\n",
    "    if n%i == 0:\n",
    "        f+=1\n",
    "if f == 0:\n",
    "    print(n,\"is prime\")\n",
    "else:\n",
    "    print(n,\"is not prime\")"
   ]
  },
  {
   "cell_type": "code",
   "execution_count": 22,
   "id": "6de6d8ec",
   "metadata": {},
   "outputs": [
    {
     "name": "stdout",
     "output_type": "stream",
     "text": [
      "10\n",
      "20\n",
      "11 13 17 19 "
     ]
    }
   ],
   "source": [
    "# Prime Numbers\n",
    "lo = int(input())\n",
    "up = int(input())\n",
    "f = 0\n",
    "for n in range(lo,up+1):\n",
    "    for i in range(2,(n//2)+1):\n",
    "        if n%i == 0:\n",
    "            f+=1\n",
    "    if f == 0:\n",
    "        print(n,end=\" \")\n",
    "    f = 0"
   ]
  },
  {
   "cell_type": "code",
   "execution_count": 23,
   "id": "c444dce1",
   "metadata": {},
   "outputs": [
    {
     "name": "stdout",
     "output_type": "stream",
     "text": [
      "10\n",
      "20\n",
      "11 13 17 19 "
     ]
    }
   ],
   "source": [
    "# Using while loop\n",
    "\n",
    "lo = int(input())\n",
    "up = int(input())\n",
    "f = 0\n",
    "n = lo\n",
    "while n!=up:\n",
    "    for i in range(2,(n//2)+1):\n",
    "        if n%i == 0:\n",
    "            f+=1\n",
    "    # print(f\"factors for {n} is {f}\")\n",
    "    if f == 0:\n",
    "        print(n,end=\" \")\n",
    "    f = 0\n",
    "    n += 1"
   ]
  },
  {
   "cell_type": "markdown",
   "id": "b82febc4",
   "metadata": {},
   "source": [
    "### Programs"
   ]
  },
  {
   "cell_type": "code",
   "execution_count": 24,
   "id": "07ad2c5b",
   "metadata": {},
   "outputs": [
    {
     "name": "stdout",
     "output_type": "stream",
     "text": [
      "21340\n",
      "0\n"
     ]
    }
   ],
   "source": [
    "\"\"\"\n",
    "PROGRAM(Question):\n",
    "The function/method countDigits accepts an argument-num, an integer representing the given number.\n",
    "The function/method countDigits compiles code successfully but fails to get the desirable result for some test cases\n",
    "due to logical errors. Your task is to fix the code so that it passes all the test cases.\n",
    "--------------------------\n",
    "Test case 1:\n",
    "Input: 782\n",
    "Expected return value: 2\n",
    "--------------------------\n",
    "Test case 2:\n",
    "Input: 21340\n",
    "Expected return value: 0\n",
    "--------------------------\n",
    "int countDigits(int num)\n",
    "{\n",
    "    int count = 0, temp = num\n",
    "    while(temp!=0)\n",
    "    {\n",
    "        temp = temp/10\n",
    "        count++\n",
    "    }\n",
    "    return (num%count)\n",
    "}\n",
    "\n",
    "\"\"\"\n",
    "n = int(input())\n",
    "digits = 0\n",
    "temp = n\n",
    "while temp!=0:\n",
    "    digits+=1\n",
    "    temp = temp//10\n",
    "print(n%digits)"
   ]
  },
  {
   "cell_type": "code",
   "execution_count": 25,
   "id": "a4153799",
   "metadata": {},
   "outputs": [
    {
     "name": "stdout",
     "output_type": "stream",
     "text": [
      "4552\n",
      "0\n"
     ]
    }
   ],
   "source": [
    "n = int(input())\n",
    "digits = len(str(n))\n",
    "print(n%digits)"
   ]
  },
  {
   "cell_type": "code",
   "execution_count": 26,
   "id": "5885762e",
   "metadata": {},
   "outputs": [
    {
     "name": "stdout",
     "output_type": "stream",
     "text": [
      "5\n",
      "a\n",
      "ab\n",
      "abc\n",
      "abcd\n",
      "abcde\n"
     ]
    }
   ],
   "source": [
    "\"\"\"\n",
    "PROGRAM(Question):\n",
    "The function/method printCharacterPattern accepts an integer num. It is supposed\n",
    "to print the first num(0<=num<=26) lines of the pattern as shown below:\n",
    "For example, if num == 4, the pattern is\n",
    "a\n",
    "ab\n",
    "abc\n",
    "abcd\n",
    "\"\"\"\n",
    "# print(ord('a'))    # converts character to ASCII value\n",
    "# print(chr(97))     # converts integer(ASCII value) to character\n",
    "\n",
    "n = int(input())\n",
    "asci = 97               # since we are starting from 'a' and its ASCII calue is 97\n",
    "for alp in range(1,n+1):\n",
    "    for j in range(1,alp+1):\n",
    "        print(chr(asci),end=\"\")\n",
    "        asci+=1\n",
    "    asci = 97\n",
    "    print()"
   ]
  },
  {
   "cell_type": "code",
   "execution_count": 27,
   "id": "652b64f9",
   "metadata": {},
   "outputs": [
    {
     "name": "stdout",
     "output_type": "stream",
     "text": [
      "Enter password: Abcde@12\n",
      "Confirm password: hello@12\n",
      "Passwords are not the same\n"
     ]
    }
   ],
   "source": [
    "\"\"\"\n",
    "PROGRAM(Question):\n",
    "Write a program to take 2 strings as input and check the below conditions if both the strings are same\n",
    "---------------------------\n",
    "1 up case\n",
    "1 lo case\n",
    "1 nu\n",
    "1 spl char\n",
    "no of characters greater than 8\n",
    "---------------------------\n",
    "\"\"\"\n",
    "str1 = input(\"Enter password: \")\n",
    "str2 = input(\"Confirm password: \")\n",
    "l=u=nu=spl=0        # All the elements are 0 at the beginning\n",
    "\n",
    "# Abcde@12\n",
    "if str1==str2:\n",
    "    for element in str1:\n",
    "        if 97<=ord(element)<=120:  # Lower case\n",
    "            l+=1\n",
    "        elif 65<=ord(element)<=90:   # Upper case\n",
    "            u+=1\n",
    "        elif element in \"0123456789\":\n",
    "            nu+=1\n",
    "        elif element == \" \":\n",
    "            pass             # ignore\n",
    "        else:\n",
    "            spl+=1\n",
    "    if l>=1 and u>=1 and nu>=1 and spl>=1 and len(str1)>=8:\n",
    "        print(\"Password is following the prerequisites\")\n",
    "    else:\n",
    "        print(\"Retry again with a correct password\")\n",
    "\n",
    "else:\n",
    "    print(\"Passwords are not the same\")"
   ]
  },
  {
   "cell_type": "code",
   "execution_count": null,
   "id": "3bc510cd",
   "metadata": {},
   "outputs": [],
   "source": []
  }
 ],
 "metadata": {
  "kernelspec": {
   "display_name": "Python 3 (ipykernel)",
   "language": "python",
   "name": "python3"
  },
  "language_info": {
   "codemirror_mode": {
    "name": "ipython",
    "version": 3
   },
   "file_extension": ".py",
   "mimetype": "text/x-python",
   "name": "python",
   "nbconvert_exporter": "python",
   "pygments_lexer": "ipython3",
   "version": "3.9.13"
  }
 },
 "nbformat": 4,
 "nbformat_minor": 5
}
